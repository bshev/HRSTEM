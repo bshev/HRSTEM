{
 "cells": [
  {
   "cell_type": "code",
   "execution_count": 106,
   "metadata": {},
   "outputs": [],
   "source": [
    "import scipy\n",
    "i=load(\"/Volumes/Ginger_Mac/TEM/NCEM/TEAM_0pt5/20150710_GaS3Se7_HRSTEM/flake 1/09.emi\")\n",
    "idata=i.data"
   ]
  },
  {
   "cell_type": "code",
   "execution_count": 103,
   "metadata": {},
   "outputs": [],
   "source": [
    "i.plot()"
   ]
  },
  {
   "cell_type": "code",
   "execution_count": 107,
   "metadata": {},
   "outputs": [],
   "source": [
    "import numpy as np\n",
    "from scipy.ndimage.filters import maximum_filter\n",
    "from scipy.ndimage.morphology import generate_binary_structure, binary_erosion\n",
    "#import matplotlib.pyplot as pp"
   ]
  },
  {
   "cell_type": "code",
   "execution_count": 108,
   "metadata": {},
   "outputs": [],
   "source": [
    "def detect_peaks(image):\n",
    "    \"\"\"\n",
    "    Takes an image and detect the peaks usingthe local maximum filter.\n",
    "    Returns a boolean mask of the peaks (i.e. 1 when\n",
    "    the pixel's value is the neighborhood maximum, 0 otherwise)\n",
    "    \"\"\"\n",
    "\n",
    "    # define an 8-connected neighborhood\n",
    "    neighborhood = generate_binary_structure(2,2)\n",
    "\n",
    "    #apply the local maximum filter; all pixel of maximal value \n",
    "    #in their neighborhood are set to 1\n",
    "    local_max = maximum_filter(image, footprint=neighborhood)==image\n",
    "    #local_max is a mask that contains the peaks we are \n",
    "    #looking for, but also the background.\n",
    "    #In order to isolate the peaks we must remove the background from the mask.\n",
    "\n",
    "    #we create the mask of the background\n",
    "    background = (image==0)\n",
    "\n",
    "    #a little technicality: we must erode the background in order to \n",
    "    #successfully subtract it form local_max, otherwise a line will \n",
    "    #appear along the background border (artifact of the local maximum filter)\n",
    "    eroded_background = binary_erosion(background, structure=neighborhood, border_value=1)\n",
    "\n",
    "    #we obtain the final mask, containing only peaks, \n",
    "    #by removing the background from the local_max mask\n",
    "    detected_peaks = local_max - eroded_background\n",
    "\n",
    "    return detected_peaks"
   ]
  },
  {
   "cell_type": "code",
   "execution_count": 109,
   "metadata": {},
   "outputs": [],
   "source": [
    "filt=scipy.ndimage.filters.gaussian_filter(idata,2)\n",
    "#filt=filt[0:256,0:256]\n",
    "i=0\n",
    "plt.set_cmap(\"jet\")\n",
    "detected_peaks = detect_peaks(filt)\n",
    "plt.subplot(1,2,(2*i+1))\n",
    "plt.imshow(filt)\n",
    "plt.subplot(1,2,(2*i+2))\n",
    "plt.imshow(detected_peaks)\n",
    "\n",
    "plt.show()"
   ]
  },
  {
   "cell_type": "code",
   "execution_count": 110,
   "metadata": {},
   "outputs": [],
   "source": [
    "import agpy"
   ]
  },
  {
   "cell_type": "code",
   "execution_count": 111,
   "metadata": {},
   "outputs": [
    {
     "data": {
      "text/plain": [
       "(array([   1.,    2.,    7.,    4.,   16.,   29.,   45.,   57.,   70.,\n",
       "          98.,  128.,  144.,  132.,  170.,  141.,  180.,  137.,  128.,\n",
       "         115.,  128.,  143.,  152.,  178.,  183.,  203.,  240.,  218.,\n",
       "         214.,  185.,  197.,  169.,  165.,  132.,   96.,   77.,   50.,\n",
       "          37.,   33.,   15.,   23.,    7.,    7.,    4.,    1.,    1.,\n",
       "           1.,    0.,    0.,    0.,    1.]),\n",
       " array([  3239.09247096,   3436.22775721,   3633.36304346,   3830.49832972,\n",
       "          4027.63361597,   4224.76890222,   4421.90418848,   4619.03947473,\n",
       "          4816.17476098,   5013.31004724,   5210.44533349,   5407.58061974,\n",
       "          5604.715906  ,   5801.85119225,   5998.98647851,   6196.12176476,\n",
       "          6393.25705101,   6590.39233727,   6787.52762352,   6984.66290977,\n",
       "          7181.79819603,   7378.93348228,   7576.06876853,   7773.20405479,\n",
       "          7970.33934104,   8167.47462729,   8364.60991355,   8561.7451998 ,\n",
       "          8758.88048606,   8956.01577231,   9153.15105856,   9350.28634482,\n",
       "          9547.42163107,   9744.55691732,   9941.69220358,  10138.82748983,\n",
       "         10335.96277608,  10533.09806234,  10730.23334859,  10927.36863484,\n",
       "         11124.5039211 ,  11321.63920735,  11518.77449361,  11715.90977986,\n",
       "         11913.04506611,  12110.18035237,  12307.31563862,  12504.45092487,\n",
       "         12701.58621113,  12898.72149738,  13095.85678363]),\n",
       " <a list of 50 Patch objects>)"
      ]
     },
     "execution_count": 111,
     "metadata": {},
     "output_type": "execute_result"
    }
   ],
   "source": [
    "window_size=1000\n",
    "xsize=len(idata[0])\n",
    "ysize=len(idata)\n",
    "win_xmin=(xsize/2)-(window_size/2)\n",
    "win_xmax=(xsize/2)+(window_size/2)\n",
    "win_ymin=(ysize/2)-(window_size/2)\n",
    "win_ymax=(ysize/2)+(window_size/2)\n",
    "\n",
    "fit_window=14\n",
    "fitlist=[]\n",
    "\n",
    "for x in range(win_xmin,win_xmax):\n",
    "    for y in range(win_ymin,win_ymax):\n",
    "        if detected_peaks[y,x]:\n",
    "            dataforfit=idata[y-fit_window/2:y+fit_window/2,x-fit_window/2:x+fit_window/2]\n",
    "            f=agpy.gaussfitter.gaussfit(dataforfit,params=[25000,10000,fit_window/2,fit_window/2,2,2,0])\n",
    "            fitlist.append(f)\n",
    "hist(transpose(fitlist)[1],bins=50)"
   ]
  },
  {
   "cell_type": "code",
   "execution_count": 269,
   "metadata": {},
   "outputs": [
    {
     "name": "stdout",
     "output_type": "stream",
     "text": [
      "calculating 100% |#############################################| ETA:  00:00:00  \n",
      "\n",
      "calculating 100% |#############################################| ETA:  00:00:00  \n",
      "\n",
      "calculating 100% |#############################################| ETA:  00:00:00  \n",
      "\n",
      "calculating 100% |#############################################| ETA:  00:00:00  \n",
      "\n",
      "calculating 100% |#############################################| ETA:  00:00:00  \n",
      "\n",
      "calculating 100% |#############################################| ETA:  00:00:00  \n",
      "\n"
     ]
    }
   ],
   "source": [
    "plt.close()\n",
    "fig=plt.figure(figsize=(8,12))\n",
    "\n",
    "fig.suptitle(\"GaS3Se7 2D Gaussian Fit\",fontsize=24,fontweight=\"bold\")\n",
    "\n",
    "sub_font=18\n",
    "amp_norm=.001\n",
    "offset_norm=amp_norm\n",
    "\n",
    "ax0=fig.add_subplot(321)\n",
    "plt.title(\"offset\",fontsize=sub_font)\n",
    "\n",
    "back=transpose(fitlist)[0]\n",
    "ax0.hist(offset_norm*back,bins=ceil(sqrt(len(back))),color=\"red\")\n",
    "\n",
    "y,x=histogram(offset_norm*back,bins=ceil(sqrt(len(back))))\n",
    "back_sig=hyperspy.signals.Spectrum(y)\n",
    "back_sig.axes_manager[0].scale=(x[-1]-x[0])/len(x)\n",
    "back_sig.axes_manager[0].offset=x[0]\n",
    "\n",
    "m=create_model(back_sig)\n",
    "g=components.Gaussian()\n",
    "g.centre.value=29.0\n",
    "m.append(g)\n",
    "m.set_signal_range(26.0,30.0)\n",
    "m.multifit()\n",
    "msig=m.as_signal()\n",
    "\n",
    "y=msig.data\n",
    "x=msig.axes_manager[0].offset+msig.axes_manager[0].scale*arange(0,msig.axes_manager[0].size,1)\n",
    "\n",
    "ax0.plot(x,y,color=\"k\")\n",
    "ax0.set_xlim(left=24.0,right=32.0)\n",
    "\n",
    "ax1=fig.add_subplot(322)\n",
    "plt.title(\"amplitude\",fontsize=sub_font)\n",
    "amp=transpose(fitlist)[1]\n",
    "\n",
    "ax1.hist(amp_norm*amp,bins=ceil(sqrt(len(amp))),color=\"red\")\n",
    "\n",
    "y,x=histogram(amp_norm*amp,bins=ceil(sqrt(len(amp))))\n",
    "amp_sig=hyperspy.signals.Spectrum(y)\n",
    "amp_sig.axes_manager[0].scale=(x[-1]-x[0])/len(x)\n",
    "amp_sig.axes_manager[0].offset=x[0]\n",
    "\n",
    "m=create_model(amp_sig)\n",
    "g1=components.Gaussian()\n",
    "g1.centre.value=6.0\n",
    "m.append(g1)\n",
    "g2=components.Gaussian()\n",
    "g2.centre.value=9.0\n",
    "m.append(g2)\n",
    "m.set_signal_range(4.0,12.0)\n",
    "m.multifit()\n",
    "msig=m.as_signal()\n",
    "\n",
    "y=msig.data\n",
    "x=msig.axes_manager[0].offset+msig.axes_manager[0].scale*arange(0,msig.axes_manager[0].size,1)\n",
    "\n",
    "ax1.plot(x,y,color=\"k\")\n",
    "ax1.set_xlim(left=2.0,right=14.0)\n",
    "\n",
    "ax2=fig.add_subplot(323)\n",
    "plt.title(\"center_x\",fontsize=sub_font)\n",
    "x0=transpose(fitlist)[2]\n",
    "\n",
    "ax2.hist(x0,bins=ceil(sqrt(len(x0))),color=\"red\")\n",
    "\n",
    "y,x=histogram(x0,bins=ceil(sqrt(len(x0))))\n",
    "x0_sig=hyperspy.signals.Spectrum(y)\n",
    "x0_sig.axes_manager[0].scale=(x[-1]-x[0])/len(x)\n",
    "x0_sig.axes_manager[0].offset=x[0]\n",
    "\n",
    "m=create_model(x0_sig)\n",
    "g1=components.Gaussian()\n",
    "g1.centre.value=7.0\n",
    "m.append(g1)\n",
    "#g2=components.Gaussian()\n",
    "#g2.centre.value=9.0\n",
    "#m.append(g2)\n",
    "m.set_signal_range(6.0,8.5)\n",
    "m.multifit()\n",
    "msig=m.as_signal()\n",
    "\n",
    "y=msig.data\n",
    "x=msig.axes_manager[0].offset+msig.axes_manager[0].scale*arange(0,msig.axes_manager[0].size,1)\n",
    "\n",
    "ax2.plot(x,y,color=\"k\")\n",
    "ax2.set_xlim(left=5.5,right=8.5)\n",
    "\n",
    "ax3=fig.add_subplot(324)\n",
    "plt.title(\"center_y\",fontsize=sub_font)\n",
    "x0=transpose(fitlist)[3]\n",
    "\n",
    "ax3.hist(y0,bins=ceil(sqrt(len(y0))),color=\"red\")\n",
    "\n",
    "y,x=histogram(x0,bins=ceil(sqrt(len(y0))))\n",
    "y0_sig=hyperspy.signals.Spectrum(y)\n",
    "y0_sig.axes_manager[0].scale=(x[-1]-x[0])/len(x)\n",
    "y0_sig.axes_manager[0].offset=x[0]\n",
    "\n",
    "m=create_model(y0_sig)\n",
    "g1=components.Gaussian()\n",
    "g1.centre.value=7.0\n",
    "m.append(g1)\n",
    "#g2=components.Gaussian()\n",
    "#g2.centre.value=9.0\n",
    "#m.append(g2)\n",
    "m.set_signal_range(6.0,8.5)\n",
    "m.multifit()\n",
    "msig=m.as_signal()\n",
    "\n",
    "y=msig.data\n",
    "x=msig.axes_manager[0].offset+msig.axes_manager[0].scale*arange(0,msig.axes_manager[0].size,1)\n",
    "\n",
    "ax3.plot(x,y,color=\"k\")\n",
    "ax3.set_xlim(left=5.5,right=8.5)\n",
    "\n",
    "\n",
    "ax4=fig.add_subplot(325)\n",
    "plt.title(\"sigma_x\",fontsize=sub_font)\n",
    "sx=transpose(fitlist)[4]\n",
    "\n",
    "ax4.hist(sx,bins=ceil(sqrt(len(sx))),color=\"red\")\n",
    "\n",
    "y,x=histogram(sx,bins=ceil(sqrt(len(sx))))\n",
    "sx_sig=hyperspy.signals.Spectrum(y)\n",
    "sx_sig.axes_manager[0].scale=(x[-1]-x[0])/len(x)\n",
    "sx_sig.axes_manager[0].offset=x[0]\n",
    "\n",
    "m=create_model(sx_sig)\n",
    "g1=components.Gaussian()\n",
    "g1.centre.value=3.0\n",
    "m.append(g1)\n",
    "#g2=components.Gaussian()\n",
    "#g2.centre.value=9.0\n",
    "#m.append(g2)\n",
    "m.set_signal_range(2.0,4.0)\n",
    "m.multifit()\n",
    "msig=m.as_signal()\n",
    "\n",
    "y=msig.data\n",
    "x=msig.axes_manager[0].offset+msig.axes_manager[0].scale*arange(0,msig.axes_manager[0].size,1)\n",
    "\n",
    "ax4.plot(x,y,color=\"k\")\n",
    "ax4.set_xlim(left=1.0,right=6.0)\n",
    "\n",
    "\n",
    "ax5=fig.add_subplot(326)\n",
    "plt.title(\"sigma_y\",fontsize=sub_font)\n",
    "sy=transpose(fitlist)[5]\n",
    "\n",
    "ax5.hist(sy,bins=ceil(sqrt(len(sy))),color=\"red\")\n",
    "\n",
    "y,x=histogram(sy,bins=ceil(sqrt(len(sy))))\n",
    "sy_sig=hyperspy.signals.Spectrum(y)\n",
    "sy_sig.axes_manager[0].scale=(x[-1]-x[0])/len(x)\n",
    "sy_sig.axes_manager[0].offset=x[0]\n",
    "\n",
    "m=create_model(sy_sig)\n",
    "g1=components.Gaussian()\n",
    "g1.centre.value=3.0\n",
    "m.append(g1)\n",
    "#g2=components.Gaussian()\n",
    "#g2.centre.value=9.0\n",
    "#m.append(g2)\n",
    "m.set_signal_range(2.0,4.0)\n",
    "m.multifit()\n",
    "msig=m.as_signal()\n",
    "\n",
    "y=msig.data\n",
    "x=msig.axes_manager[0].offset+msig.axes_manager[0].scale*arange(0,msig.axes_manager[0].size,1)\n",
    "\n",
    "ax5.plot(x,y,color=\"k\")\n",
    "ax5.set_xlim(left=1.0,right=6.0)\n",
    "\n",
    "plt.show()"
   ]
  },
  {
   "cell_type": "code",
   "execution_count": 249,
   "metadata": {},
   "outputs": [
    {
     "data": {
      "text/plain": [
       "23.228959624750416"
      ]
     },
     "execution_count": 249,
     "metadata": {},
     "output_type": "execute_result"
    }
   ],
   "source": [
    "g.centre.value"
   ]
  },
  {
   "cell_type": "code",
   "execution_count": 189,
   "metadata": {},
   "outputs": [],
   "source": [
    "plt.close()\n",
    "fig=plt.figure(figsize=(8,12))\n",
    "\n",
    "fig.suptitle(\"GaS3Se7 2D Gaussian Fit\",fontsize=24,fontweight=\"bold\")\n",
    "\n",
    "sub_font=18\n",
    "amp_norm=.001\n",
    "offset_norm=amp_norm\n",
    "\n",
    "ax0=fig.add_subplot(321)\n",
    "plt.title(\"offset\",fontsize=sub_font)\n",
    "ax1=fig.add_subplot(322)\n",
    "plt.title(\"amplitude\",fontsize=sub_font)\n",
    "ax2=fig.add_subplot(323)\n",
    "plt.title(\"center_x\",fontsize=sub_font)\n",
    "ax3=fig.add_subplot(324)\n",
    "plt.title(\"center_y\",fontsize=sub_font)\n",
    "ax4=fig.add_subplot(325)\n",
    "plt.title(\"sigma_x\",fontsize=sub_font)\n",
    "ax5=fig.add_subplot(326)\n",
    "plt.title(\"sigma_y\",fontsize=sub_font)\n",
    "\n",
    "back=transpose(fitlist)[0]\n",
    "amp=transpose(fitlist)[1]\n",
    "x0=transpose(fitlist)[2]\n",
    "y0=transpose(fitlist)[3]\n",
    "sx=transpose(fitlist)[4]\n",
    "sy=transpose(fitlist)[5]\n",
    "\n",
    "\n",
    "ax0.hist(offset_norm*back,bins=ceil(sqrt(len(back))))\n",
    "ax1.hist(amp_norm*amp,bins=ceil(sqrt(len(amp))))\n",
    "ax2.hist(x0,bins=ceil(sqrt(len(x0))))\n",
    "ax3.hist(y0,bins=ceil(sqrt(len(y0))))\n",
    "ax4.hist(sx,bins=ceil(sqrt(len(sx))))\n",
    "ax5.hist(sy,bins=ceil(sqrt(len(sy))))\n",
    "\n",
    "plt.show()"
   ]
  },
  {
   "cell_type": "code",
   "execution_count": 160,
   "metadata": {},
   "outputs": [],
   "source": [
    "x=hist(amp_norm*amp,bins=ceil(sqrt(len(amp))))[1]\n",
    "y=hist(amp_norm*amp,bins=ceil(sqrt(len(amp))))[0]\n",
    "amp_sig=hyperspy.signals.Spectrum(y)\n",
    "amp_sig.axes_manager[0].scale=(x[-1]-x[0])/len(x)\n",
    "amp_sig.axes_manager[0].offset=x[0]\n",
    "amp_sig.plot()"
   ]
  },
  {
   "cell_type": "code",
   "execution_count": 161,
   "metadata": {},
   "outputs": [
    {
     "name": "stdout",
     "output_type": "stream",
     "text": [
      "calculating 100% |#############################################| ETA:  00:00:00  \n",
      "\n"
     ]
    }
   ],
   "source": [
    "m=create_model(amp_sig)\n",
    "g1=components.Gaussian()\n",
    "m.append(g1)\n",
    "g2=components.Gaussian()\n",
    "m.append(g2)\n",
    "\n",
    "m.set_signal_range(3.5,12.0)\n",
    "m.multifit()\n",
    "msig=m.as_signal()\n",
    "m.plot()"
   ]
  },
  {
   "cell_type": "code",
   "execution_count": 178,
   "metadata": {},
   "outputs": [
    {
     "name": "stdout",
     "output_type": "stream",
     "text": [
      "8.3521512375\n",
      "1.04573675015\n",
      "7.98685829519\n",
      "5.71023580286\n",
      "0.767065325601\n",
      "7.44426271437\n"
     ]
    }
   ],
   "source": [
    "print g1.centre.value\n",
    "print g1.sigma.value\n",
    "print g1.centre.value/g1.sigma.value\n",
    "print g2.centre.value\n",
    "print g2.sigma.value\n",
    "print g2.centre.value/g2.sigma.value"
   ]
  },
  {
   "cell_type": "code",
   "execution_count": 177,
   "metadata": {},
   "outputs": [],
   "source": [
    "plt.close()\n",
    "fig=plt.figure()\n",
    "fig.suptitle=\"Peak Amplitude\"\n",
    "hist(amp_norm*amp,bins=ceil(sqrt(len(amp))),color=\"r\")\n",
    "y=msig.data\n",
    "x=msig.axes_manager[0].offset+msig.axes_manager[0].scale*arange(0,msig.axes_manager[0].size,1)\n",
    "plt.plot(x,y,\"k\")\n",
    "plt.show()"
   ]
  },
  {
   "cell_type": "code",
   "execution_count": 183,
   "metadata": {},
   "outputs": [],
   "source": [
    "plt.close()\n",
    "fig=plt.figure(figsize=(8,12))\n",
    "\n",
    "fig.suptitle(\"GaS3Se7 2D Gaussian Fit\",fontsize=24,fontweight=\"bold\")\n",
    "\n",
    "sub_font=18\n",
    "amp_norm=.001\n",
    "offset_norm=amp_norm\n",
    "\n",
    "ax0=fig.add_subplot(321)\n",
    "plt.title(\"offset\",fontsize=sub_font)\n",
    "ax1=fig.add_subplot(322)\n",
    "plt.title(\"amplitude\",fontsize=sub_font)\n",
    "ax2=fig.add_subplot(323)\n",
    "plt.title(\"center_x\",fontsize=sub_font)\n",
    "ax3=fig.add_subplot(324)\n",
    "plt.title(\"center_y\",fontsize=sub_font)\n",
    "ax4=fig.add_subplot(325)\n",
    "plt.title(\"sigma_x\",fontsize=sub_font)\n",
    "ax5=fig.add_subplot(326)\n",
    "plt.title(\"sigma_y\",fontsize=sub_font)\n",
    "\n",
    "back=transpose(fitlist)[0]\n",
    "amp=transpose(fitlist)[1]\n",
    "x0=transpose(fitlist)[2]\n",
    "y0=transpose(fitlist)[3]\n",
    "sx=transpose(fitlist)[4]\n",
    "sy=transpose(fitlist)[5]\n",
    "\n",
    "\n",
    "ax0.hist(offset_norm*back,bins=ceil(sqrt(len(back))))\n",
    "\n",
    "ax1.hist(amp_norm*amp,bins=ceil(sqrt(len(amp))),color=\"r\")\n",
    "y=msig.data\n",
    "x=msig.axes_manager[0].offset+msig.axes_manager[0].scale*arange(0,msig.axes_manager[0].size,1)\n",
    "ax1.plot(x,y,color=\"k\")\n",
    "ax2.hist(x0,bins=ceil(sqrt(len(x0))))\n",
    "ax3.hist(y0,bins=ceil(sqrt(len(y0))))\n",
    "ax4.hist(sx,bins=ceil(sqrt(len(sx))))\n",
    "ax5.hist(sy,bins=ceil(sqrt(len(sy))))\n",
    "\n",
    "plt.show()"
   ]
  },
  {
   "cell_type": "code",
   "execution_count": 14,
   "metadata": {},
   "outputs": [],
   "source": [
    "testdata=idata[496:510,503:517]\n",
    "plt.imshow(testdata,interpolation=\"None\")\n",
    "plt.colorbar()\n",
    "plt.show()"
   ]
  },
  {
   "cell_type": "code",
   "execution_count": null,
   "metadata": {},
   "outputs": [],
   "source": []
  },
  {
   "cell_type": "code",
   "execution_count": 105,
   "metadata": {},
   "outputs": [],
   "source": [
    "fig=plt.figure()\n",
    "plt.imshow(filt)\n",
    "plt.colorbar()\n",
    "plt.show()"
   ]
  },
  {
   "cell_type": "code",
   "execution_count": 112,
   "metadata": {},
   "outputs": [
    {
     "ename": "TypeError",
     "evalue": "unsupported operand type(s) for -: 'str' and 'str'",
     "output_type": "error",
     "traceback": [
      "\u001b[0;31m---------------------------------------------------------------------------\u001b[0m\n\u001b[0;31mTypeError\u001b[0m                                 Traceback (most recent call last)",
      "\u001b[0;32m<ipython-input-112-361125b19f7a>\u001b[0m in \u001b[0;36m<module>\u001b[0;34m()\u001b[0m\n\u001b[1;32m      1\u001b[0m \u001b[0ma\u001b[0m\u001b[0;34m=\u001b[0m \u001b[0;34m\"a\"\u001b[0m\u001b[0;34m\u001b[0m\u001b[0m\n\u001b[1;32m      2\u001b[0m \u001b[0mb\u001b[0m\u001b[0;34m=\u001b[0m \u001b[0;34m\"b\"\u001b[0m\u001b[0;34m\u001b[0m\u001b[0m\n\u001b[0;32m----> 3\u001b[0;31m \u001b[0ma\u001b[0m\u001b[0;34m-\u001b[0m\u001b[0mb\u001b[0m\u001b[0;34m\u001b[0m\u001b[0m\n\u001b[0m",
      "\u001b[0;31mTypeError\u001b[0m: unsupported operand type(s) for -: 'str' and 'str'"
     ]
    }
   ],
   "source": [
    "a= \"a\"\n",
    "b= \"b\"\n",
    "a-b"
   ]
  },
  {
   "cell_type": "code",
   "execution_count": null,
   "metadata": {},
   "outputs": [],
   "source": []
  }
 ],
 "metadata": {
  "kernelspec": {
   "display_name": "Python 3",
   "language": "python",
   "name": "python3"
  },
  "language_info": {
   "codemirror_mode": {
    "name": "ipython",
    "version": 3
   },
   "file_extension": ".py",
   "mimetype": "text/x-python",
   "name": "python",
   "nbconvert_exporter": "python",
   "pygments_lexer": "ipython3",
   "version": "3.7.3"
  }
 },
 "nbformat": 4,
 "nbformat_minor": 1
}
